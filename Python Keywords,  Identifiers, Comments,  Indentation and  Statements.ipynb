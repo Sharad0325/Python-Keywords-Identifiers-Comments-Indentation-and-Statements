{
 "cells": [
  {
   "cell_type": "code",
   "execution_count": 3,
   "id": "00d8f6e5-ff3c-4c58-b1b9-c4b46682dd77",
   "metadata": {},
   "outputs": [
    {
     "name": "stdout",
     "output_type": "stream",
     "text": [
      "\n",
      "Here is a list of the Python keywords.  Enter any keyword to get more help.\n",
      "\n",
      "False               class               from                or\n",
      "None                continue            global              pass\n",
      "True                def                 if                  raise\n",
      "and                 del                 import              return\n",
      "as                  elif                in                  try\n",
      "assert              else                is                  while\n",
      "async               except              lambda              with\n",
      "await               finally             nonlocal            yield\n",
      "break               for                 not                 \n",
      "\n"
     ]
    }
   ],
   "source": [
    "#Explain the significance of Python keywords and provide examples of five keywords.\n",
    "#keywords>> Keywords are some predefined and reserved words in Python that have special meanings.The keyword cannot be used as an identifier, \n",
    "#function, or variable name\n",
    "help('keywords')"
   ]
  },
  {
   "cell_type": "code",
   "execution_count": 17,
   "id": "1e4df48e-cb17-4e87-91f0-4a82d6f628c9",
   "metadata": {},
   "outputs": [
    {
     "name": "stdout",
     "output_type": "stream",
     "text": [
      "you are adult\n"
     ]
    }
   ],
   "source": [
    "#examples of five keywords>>if , elif ,else ,true , false.\n",
    "age = 35\n",
    "if age <= 21:\n",
    "    print(\"you are minor\")\n",
    "elif (21<age<65):\n",
    "    print(\"you are adult\")\n",
    "else:\n",
    "     print(\"you are sinior citizen\")"
   ]
  },
  {
   "cell_type": "code",
   "execution_count": 19,
   "id": "f0885a19-a9a3-497b-966e-77d9534adfc1",
   "metadata": {},
   "outputs": [
    {
     "data": {
      "text/plain": [
       "1"
      ]
     },
     "execution_count": 19,
     "metadata": {},
     "output_type": "execute_result"
    }
   ],
   "source": [
    "True - False #True=1 & False=0"
   ]
  },
  {
   "cell_type": "markdown",
   "id": "8e334da5-b4ba-447c-93b1-ec6380de509e",
   "metadata": {},
   "source": [
    "# Describe the rules for defining identifiers in Python and provide an example.\n",
    "1)It should start with an alphabet character or an underscore ( _ ).\n",
    "2)It should not contain any special character other than an underscore ( _ ).\n",
    "3)keyword not used in place of identifiers.\n",
    "4)It should not contain blank space."
   ]
  },
  {
   "cell_type": "code",
   "execution_count": 21,
   "id": "f2fccbfa-6d75-4487-a03f-14d7726729a1",
   "metadata": {},
   "outputs": [
    {
     "ename": "ZeroDivisionError",
     "evalue": "division by zero",
     "output_type": "error",
     "traceback": [
      "\u001b[1;31m---------------------------------------------------------------------------\u001b[0m",
      "\u001b[1;31mZeroDivisionError\u001b[0m                         Traceback (most recent call last)",
      "Cell \u001b[1;32mIn[21], line 3\u001b[0m\n\u001b[0;32m      1\u001b[0m \u001b[38;5;66;03m#What are comments in Python, and why are they useful? Provide an example.\u001b[39;00m\n\u001b[0;32m      2\u001b[0m \u001b[38;5;66;03m#comments>>comments help us to Explaining the code to others, Comments in Python are identified with a hash symbol- #.\u001b[39;00m\n\u001b[1;32m----> 3\u001b[0m \u001b[38;5;28;01mTrue\u001b[39;00m\u001b[38;5;241m/\u001b[39m\u001b[38;5;28;01mFalse\u001b[39;00m\n",
      "\u001b[1;31mZeroDivisionError\u001b[0m: division by zero"
     ]
    }
   ],
   "source": [
    "#What are comments in Python, and why are they useful? Provide an example.\n",
    "#comments>>comments help us to Explaining the code to others, Comments in Python are identified with a hash symbol- #.\n",
    "True/False #it will through error because python not support infinity."
   ]
  },
  {
   "cell_type": "markdown",
   "id": "a835f24c-42eb-4ca2-af8d-a1e189ce2b8b",
   "metadata": {},
   "source": [
    "# Why is proper indentation important in Python?\n",
    "indentation>>In Python, indentation is used to define the structure and hierarchy of the code. It helps in visually organizing the code and \n",
    "making it more readable.if indentation is not right block of code give us false result and sometime through error, so proper indentation is very important in python."
   ]
  },
  {
   "cell_type": "markdown",
   "id": "27670615-137a-4168-b60d-7c0d562e91f2",
   "metadata": {},
   "source": [
    "# What happens if indentation is incorrect in Python?\n",
    "if indentation is incorrect then it give us either wrong result or through an error, which impact on overall code and output."
   ]
  },
  {
   "cell_type": "markdown",
   "id": "950d9fe8-4f82-41a2-8484-10cfce908599",
   "metadata": {},
   "source": [
    "#  Differentiate between expression and statement in Python with examples.\n",
    "expression >> in expression we use operators like arithmatic operator,comparison operator etc to compute the result of expression.\n",
    "statement >> in statement we assign value in variable so that we use values for results."
   ]
  },
  {
   "cell_type": "code",
   "execution_count": 23,
   "id": "c1c0e3a5-1e27-4189-bf79-29aaaa5a512e",
   "metadata": {},
   "outputs": [
    {
     "data": {
      "text/plain": [
       "21"
      ]
     },
     "execution_count": 23,
     "metadata": {},
     "output_type": "execute_result"
    }
   ],
   "source": [
    "# example of expression and statement.\n",
    "a = 5 #statement\n",
    "b = 16 #statement\n",
    "\n",
    "a+b #expression"
   ]
  }
 ],
 "metadata": {
  "kernelspec": {
   "display_name": "Python 3 (ipykernel)",
   "language": "python",
   "name": "python3"
  },
  "language_info": {
   "codemirror_mode": {
    "name": "ipython",
    "version": 3
   },
   "file_extension": ".py",
   "mimetype": "text/x-python",
   "name": "python",
   "nbconvert_exporter": "python",
   "pygments_lexer": "ipython3",
   "version": "3.12.4"
  }
 },
 "nbformat": 4,
 "nbformat_minor": 5
}
